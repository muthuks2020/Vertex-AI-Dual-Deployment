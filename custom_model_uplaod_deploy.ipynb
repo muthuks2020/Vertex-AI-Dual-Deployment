{
 "cells": [
  {
   "cell_type": "markdown",
   "id": "fd31fdec",
   "metadata": {},
   "source": [
    "# Custom model example"
   ]
  },
  {
   "cell_type": "code",
   "execution_count": null,
   "id": "87bf4a92",
   "metadata": {},
   "outputs": [],
   "source": [
    "import os\n",
    "\n",
    "from google.cloud import storage\n",
    "from sklearn import datasets\n",
    "import xgboost as xgb\n",
    "\n",
    "digits = datasets.load_digits()\n",
    "dtrain = xgb.DMatrix(digits.data, label=digits.target)\n",
    "bst = xgb.train({}, dtrain, 20)\n",
    "\n",
    "artifact_filename = 'model.bst'\n",
    "\n",
    "# Save model artifact to local filesystem (doesn't persist)\n",
    "local_path = artifact_filename\n",
    "bst.save_model(local_path)"
   ]
  },
  {
   "cell_type": "markdown",
   "id": "114f445a",
   "metadata": {},
   "source": [
    "# Upload model to GCS"
   ]
  },
  {
   "cell_type": "code",
   "execution_count": null,
   "id": "61c8b4cb",
   "metadata": {},
   "outputs": [],
   "source": [
    "# !gsutil mb -l us-central1 'gs://vertex-ai-demo-2021'"
   ]
  },
  {
   "cell_type": "code",
   "execution_count": null,
   "id": "a59e387c",
   "metadata": {},
   "outputs": [],
   "source": [
    "# Upload model artifact to Cloud Storage\n",
    "\n",
    "model_directory = \"gs://vertex-ai-demo-2021/models/xgboost\"\n",
    "storage_path = os.path.join(model_directory, artifact_filename)\n",
    "blob = storage.blob.Blob.from_string(storage_path, client=storage.Client())\n",
    "blob.upload_from_filename(local_path)"
   ]
  },
  {
   "cell_type": "markdown",
   "id": "4dcbe37e",
   "metadata": {},
   "source": [
    "# Upload model to Vertex AI Platform"
   ] 
  },
  {
   "cell_type": "code",
   "execution_count": null,
   "id": "5dbfd630",
   "metadata": {},
   "outputs": [],
   "source": [
    "project = 'notebook-325902'\n",
    "location = 'us-central1'\n",
    "display_name = 'model.bst'\n",
    "serving_container_image_uri = 'us-docker.pkg.dev/vertex-ai/prediction/xgboost-cpu.1-4:latest'\n",
    "artifact_uri = model_directory"
   ]
  },
  {
   "cell_type": "code",
   "execution_count": null,
   "id": "a4ebac5a",
   "metadata": {},
   "outputs": [],
   "source": [
    "from utils import upload_model_sample\n",
    "\n",
    "upload_model_sample.upload_model_sample(\n",
    "    project=project,\n",
    "    location=location,\n",
    "    display_name=display_name,\n",
    "    serving_container_image_uri=serving_container_image_uri,\n",
    "    artifact_uri=artifact_uri\n",
    ")"
   ]
  },
  {
   "cell_type": "code",
   "execution_count": null,
   "id": "41f51ff4",
   "metadata": {},
   "outputs": [],
   "source": []
  }
 ],
 "metadata": {
  "environment": {
   "name": "common-cpu.m79",
   "type": "gcloud",
   "uri": "gcr.io/deeplearning-platform-release/base-cpu:m79"
  },
  "kernelspec": {
   "display_name": "Python 3",
   "language": "python",
   "name": "python3"
  },
  "language_info": {
   "codemirror_mode": {
    "name": "ipython",
    "version": 3
   },
   "file_extension": ".py",
   "mimetype": "text/x-python",
   "name": "python",
   "nbconvert_exporter": "python",
   "pygments_lexer": "ipython3",
   "version": "3.7.10"
  }
 },
 "nbformat": 4,
 "nbformat_minor": 5
}
